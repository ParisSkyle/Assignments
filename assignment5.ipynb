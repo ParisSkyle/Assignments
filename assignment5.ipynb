{
 "cells": [
  {
   "cell_type": "markdown",
   "metadata": {},
   "source": [
    "## Packages"
   ]
  },
  {
   "cell_type": "code",
   "execution_count": 77,
   "metadata": {},
   "outputs": [
    {
     "name": "stdout",
     "output_type": "stream",
     "text": [
      "The autoreload extension is already loaded. To reload it, use:\n",
      "  %reload_ext autoreload\n"
     ]
    }
   ],
   "source": [
    "import time\n",
    "import numpy as np\n",
    "import h5py\n",
    "import matplotlib.pyplot as plt\n",
    "import scipy\n",
    "from PIL import Image\n",
    "from scipy import ndimage\n",
    "\n",
    "%matplotlib inline\n",
    "plt.rcParams['figure.figsize'] = (5.0, 4.0) # set default size of plots\n",
    "plt.rcParams['image.interpolation'] = 'nearest'\n",
    "plt.rcParams['image.cmap'] = 'gray'\n",
    "\n",
    "%load_ext autoreload\n",
    "%autoreload 2\n",
    "\n",
    "np.random.seed(1)"
   ]
  },
  {
   "cell_type": "code",
   "execution_count": 78,
   "metadata": {},
   "outputs": [],
   "source": [
    "def load_data(path):\n",
    "    train_dataset = h5py.File(path+'/train_catvnoncat.h5', \"r\")\n",
    "    train_set_x_orig = np.array(train_dataset[\"train_set_x\"][:]) # your train set features\n",
    "    train_set_y_orig = np.array(train_dataset[\"train_set_y\"][:]) # your train set labels\n",
    "\n",
    "    test_dataset = h5py.File(path+'/test_catvnoncat.h5', \"r\")\n",
    "    test_set_x_orig = np.array(test_dataset[\"test_set_x\"][:]) # your test set features\n",
    "    test_set_y_orig = np.array(test_dataset[\"test_set_y\"][:]) # your test set labels\n",
    "\n",
    "    classes = np.array(test_dataset[\"list_classes\"][:]) # the list of classes\n",
    "    \n",
    "    train_set_y_orig = train_set_y_orig.reshape((1, train_set_y_orig.shape[0]))\n",
    "    test_set_y_orig = test_set_y_orig.reshape((1, test_set_y_orig.shape[0]))\n",
    "    \n",
    "    return train_set_x_orig, train_set_y_orig, test_set_x_orig, test_set_y_orig, classes"
   ]
  },
  {
   "cell_type": "markdown",
   "metadata": {},
   "source": [
    "## Dataset\n",
    "\n",
    "To be familiar with the dataset, load the data by running the cell below."
   ]
  },
  {
   "cell_type": "code",
   "execution_count": 79,
   "metadata": {},
   "outputs": [],
   "source": [
    "train_x_orig, train_y, test_x_orig, test_y, classes = load_data('dataset') # you need to change your dataset path"
   ]
  },
  {
   "cell_type": "markdown",
   "metadata": {},
   "source": [
    "The following code will show you an image in the dataset. Feel free to change the index and re-run the cell multiple times to see other images. "
   ]
  },
  {
   "cell_type": "code",
   "execution_count": 80,
   "metadata": {},
   "outputs": [
    {
     "name": "stdout",
     "output_type": "stream",
     "text": [
      "y = 0. It's a non-cat picture.\n"
     ]
    },
    {
     "data": {
      "image/png": "[encoded data removed]",
      "text/plain": [
       "<Figure size 360x288 with 1 Axes>"
      ]
     },
     "metadata": {
      "needs_background": "light"
     },
     "output_type": "display_data"
    }
   ],
   "source": [
    "# Example of a picture\n",
    "index = 10\n",
    "plt.imshow(train_x_orig[index])\n",
    "print (\"y = \" + str(train_y[0,index]) + \". It's a \" + classes[train_y[0,index]].decode(\"utf-8\") +  \" picture.\")"
   ]
  },
  {
   "cell_type": "code",
   "execution_count": 81,
   "metadata": {},
   "outputs": [
    {
     "name": "stdout",
     "output_type": "stream",
     "text": [
      "Number of training examples: 209\n",
      "Number of testing examples: 50\n",
      "Each image is of size: (64, 64, 3)\n",
      "train_x_orig shape: (209, 64, 64, 3)\n",
      "train_y shape: (1, 209)\n",
      "test_x_orig shape: (50, 64, 64, 3)\n",
      "test_y shape: (1, 50)\n"
     ]
    }
   ],
   "source": [
    "# Explore your dataset \n",
    "m_train = train_x_orig.shape[0]\n",
    "num_px = train_x_orig.shape[1]\n",
    "m_test = test_x_orig.shape[0]\n",
    "\n",
    "print (\"Number of training examples: \" + str(m_train))\n",
    "print (\"Number of testing examples: \" + str(m_test))\n",
    "print (\"Each image is of size: (\" + str(num_px) + \", \" + str(num_px) + \", 3)\")\n",
    "print (\"train_x_orig shape: \" + str(train_x_orig.shape))\n",
    "print (\"train_y shape: \" + str(train_y.shape))\n",
    "print (\"test_x_orig shape: \" + str(test_x_orig.shape))\n",
    "print (\"test_y shape: \" + str(test_y.shape))"
   ]
  },
  {
   "cell_type": "code",
   "execution_count": 82,
   "metadata": {},
   "outputs": [
    {
     "name": "stdout",
     "output_type": "stream",
     "text": [
      "train_x's shape: (12288, 209)\n",
      "test_x's shape: (12288, 50)\n"
     ]
    }
   ],
   "source": [
    "# Reshape the training and test examples \n",
    "train_x_flatten = train_x_orig.reshape(train_x_orig.shape[0], -1).T   # The \"-1\" makes reshape flatten the remaining dimensions\n",
    "test_x_flatten = test_x_orig.reshape(test_x_orig.shape[0], -1).T\n",
    "\n",
    "# Standardize data to have feature values between 0 and 1.\n",
    "train_x = train_x_flatten/255.\n",
    "test_x = test_x_flatten/255.\n",
    "\n",
    "print (\"train_x's shape: \" + str(train_x.shape))\n",
    "print (\"test_x's shape: \" + str(test_x.shape))"
   ]
  },
  {
   "cell_type": "code",
   "execution_count": 83,
   "metadata": {
    "collapsed": true
   },
   "outputs": [],
   "source": [
    "### CONSTANTS DEFINING THE MODEL ####\n",
    "n_x = 12288     # num_px * num_px * 3\n",
    "n_h = 7\n",
    "n_y = 1\n",
    "layers_dims = (n_x, n_h, n_y)"
   ]
  },
  {
   "cell_type": "code",
   "execution_count": 84,
   "metadata": {},
   "outputs": [],
   "source": [
    "def initialize_parameters_deep(layer_dims):\n",
    "    \"\"\"\n",
    "    Arguments:\n",
    "    layer_dims -- python array (list) containing the dimensions of each layer in our network\n",
    "    \n",
    "    Returns:\n",
    "    parameters -- python dictionary containing your parameters \"W1\", \"b1\",\"W2\", \"b2\":\n",
    "    \"\"\"\n",
    "    \n",
    "    np.random.seed(1)\n",
    "    parameters = {}\n",
    "    parameters[\"W1\"] = np.random.randn(n_h, n_x)*0.01\n",
    "    parameters[\"b1\"] = np.zeros((n_h,1))\n",
    "    parameters[\"W2\"] = np.random.randn(n_y, n_h)*0.01\n",
    "    parameters[\"b2\"] = np.zeros((n_y,1))\n",
    "\n",
    "    \n",
    "    \n",
    "    return parameters"
   ]
  },
  {
   "cell_type": "code",
   "execution_count": 85,
   "metadata": {},
   "outputs": [],
   "source": [
    "def sigmoid(Z): return 1/(1+np.exp(-Z))\n",
    "def relu(Z): return np.maximum(0,Z)"
   ]
  },
  {
   "cell_type": "code",
   "execution_count": 86,
   "metadata": {},
   "outputs": [],
   "source": [
    "\n",
    "def linear_activation_forward(X,parameters):\n",
    "    \"\"\"\n",
    "    Implement the forward propagation\n",
    "\n",
    "    Arguments:\n",
    "    X -- input data:\n",
    "    parameters -- python dictionary containing your parameters \"W1\", \"b1\",\"W2\", \"b2\":\n",
    "\n",
    "    Returns:\n",
    "    AL -- output of the forward propogation\n",
    "    \"\"\"\n",
    "    global First_Layer,ReLu_First_Layer,Second_Layer,Sigmoid_Second_Layer\n",
    "\n",
    "    First_Layer = np.dot(parameters[\"W1\"], X) + parameters[\"b1\"]\n",
    "\n",
    "    ReLu_First_Layer = relu(First_Layer)\n",
    "\n",
    "    Second_Layer = np.dot(parameters[\"W2\"], ReLu_First_Layer) + parameters[\"b2\"] \n",
    "    Sigmoid_Second_Layer = sigmoid(Second_Layer)\n",
    "\n",
    "    AL = Sigmoid_Second_Layer\n",
    "        \n",
    "    \n",
    "    return AL"
   ]
  },
  {
   "cell_type": "code",
   "execution_count": 87,
   "metadata": {},
   "outputs": [],
   "source": [
    "def compute_cost(AL, Y):\n",
    "    m = Y.shape[1]\n",
    "    output = np.multiply(np.log(AL),Y) +  np.multiply(np.log(1-AL), (1-Y))\n",
    "    cost = -1/m*np.sum(output)\n",
    "    cost = np.squeeze(cost)  \n",
    "    return cost"
   ]
  },
  {
   "cell_type": "code",
   "execution_count": 88,
   "metadata": {},
   "outputs": [],
   "source": [
    "def sigmoid_backward(dA, cache): return dA * (1/(1+np.exp(-cache))) * (1-(1/(1+np.exp(-cache))))\n",
    "def relu_backward(dA, cache):\n",
    "    Z = cache\n",
    "    dZ = np.array(dA, copy=True) \n",
    "    dZ[Z <= 0] = 0\n",
    "    return dZ"
   ]
  },
  {
   "cell_type": "code",
   "execution_count": 89,
   "metadata": {},
   "outputs": [],
   "source": [
    "def linear_activation_backward(AL,Y,parameters,X):\n",
    "    grads = {}\n",
    "\n",
    "    m = AL.shape[1]\n",
    "\n",
    "    dAL = - (np.divide(Y, AL) - np.divide(1 - Y, 1 - AL))\n",
    "    \n",
    "    dZSigmoid = sigmoid_backward(dAL, Sigmoid_Second_Layer)\n",
    "\n",
    "\n",
    "    grads[\"dW2\"] = 1./m*np.dot(dZSigmoid, ReLu_First_Layer.T)\n",
    "    grads[\"db2\"] = 1./m*np.sum(dZSigmoid, axis = 1, keepdims=True)\n",
    "    dA_prev = np.dot(parameters[\"W2\"].T, dZSigmoid)\n",
    "\n",
    "  \n",
    "\n",
    "    dZRelu = relu_backward(dA_prev, First_Layer)\n",
    "\n",
    "    grads[\"dW1\"] = 1./m*np.dot(dZRelu, X.T)\n",
    "    grads[\"db1\"] = 1./m*np.sum(dZRelu, axis = 1, keepdims=True)\n",
    "    dA_prev = np.dot(parameters[\"W1\"].T, dZRelu)\n",
    "\n",
    "\n",
    " \n",
    "    return grads"
   ]
  },
  {
   "cell_type": "code",
   "execution_count": 90,
   "metadata": {},
   "outputs": [],
   "source": [
    "def update_parameters(parameters, grads, learning_rate):\n",
    "    for l in range(len(parameters) // 2 ):\n",
    "        parameters[\"W\" + str(l+1)] = parameters[\"W\" + str(l+1)] - learning_rate*grads[\"dW\" + str(l+1)]\n",
    "        parameters[\"b\" + str(l+1)] = parameters[\"b\" + str(l+1)] - learning_rate*grads[\"db\" + str(l+1)]\n",
    "    return parameters"
   ]
  },
  {
   "cell_type": "code",
   "execution_count": 91,
   "metadata": {},
   "outputs": [],
   "source": [
    "def predict(X, parameters):\n",
    "    m = X.shape[1]\n",
    "    n = len(parameters) // 2\n",
    "    accuracy = np.zeros((1,m))\n",
    "    probas = linear_activation_forward(X, parameters)\n",
    "    for i in range(0, probas.shape[1]):\n",
    "        if probas[0,i] > 0.5: accuracy[0,i] = 1\n",
    "        else: accuracy[0,i] = 0         \n",
    "    return accuracy"
   ]
  },
  {
   "cell_type": "code",
   "execution_count": 92,
   "metadata": {},
   "outputs": [],
   "source": [
    "def plot_loss(costs):\n",
    "   plt.plot(np.squeeze(costs))\n",
    "   plt.show()\n",
    "    "
   ]
  },
  {
   "cell_type": "code",
   "execution_count": 93,
   "metadata": {
    "collapsed": true
   },
   "outputs": [],
   "source": [
    "def two_layer_model(X, Y, layers_dims, learning_rate = 0.0075, num_iterations = 3000,print_cost=False):\n",
    "    # keep track of cost\n",
    "    costs = []\n",
    "    \n",
    "    # Parameters initialization.\n",
    "    parameters = initialize_parameters_deep(layers_dims)\n",
    "\n",
    "    # Loop (gradient descent)\n",
    "    for i in range(0, num_iterations):\n",
    "\n",
    "        # Forward propagation: [LINEAR -> RELU]*(L-1) -> LINEAR -> SIGMOID.\n",
    "        AL = linear_activation_forward(X, parameters)\n",
    "        \n",
    "        # Compute cost.\n",
    "        cost = compute_cost(AL, Y)\n",
    "    \n",
    "        # Backward propagation.\n",
    "        grads = linear_activation_backward(AL, Y, parameters, X)\n",
    " \n",
    "        # Update parameters.\n",
    "        parameters = update_parameters(parameters, grads, learning_rate)\n",
    "                \n",
    "        # Print the cost every 100 training example\n",
    "        if print_cost and i % 100 == 0:\n",
    "            print (\"Cost after iteration %i: %f\" %(i, cost))\n",
    "        if print_cost and i % 100 == 0:\n",
    "            costs.append(cost)         \n",
    "    plot_loss(costs) \n",
    "    return parameters"
   ]
  },
  {
   "cell_type": "code",
   "execution_count": 94,
   "metadata": {},
   "outputs": [],
   "source": [
    "def main():\n",
    "    parameters = two_layer_model(train_x, train_y, layers_dims, learning_rate = 0.0075, num_iterations = 3000, print_cost = True)\n",
    "    print(\"train accuracy: {} %\".format(100 - np.mean(np.abs(predict(train_x, parameters) - train_y)) * 100))\n",
    "    print(\"test accuracy: {} %\".format(100 - np.mean(np.abs(predict(test_x, parameters) - test_y)) * 100))"
   ]
  },
  {
   "cell_type": "code",
   "execution_count": 95,
   "metadata": {},
   "outputs": [
    {
     "name": "stdout",
     "output_type": "stream",
     "text": [
      "Cost after iteration 0: 0.693050\n",
      "Cost after iteration 100: 0.646563\n",
      "Cost after iteration 200: 0.631542\n",
      "Cost after iteration 300: 0.595537\n",
      "Cost after iteration 400: 0.542180\n",
      "Cost after iteration 500: 0.490984\n",
      "Cost after iteration 600: 0.494087\n",
      "Cost after iteration 700: 0.402649\n",
      "Cost after iteration 800: 0.470747\n",
      "Cost after iteration 900: 0.771026\n",
      "Cost after iteration 1000: 0.588436\n",
      "Cost after iteration 1100: 0.680554\n",
      "Cost after iteration 1200: 0.641188\n",
      "Cost after iteration 1300: 0.619823\n",
      "Cost after iteration 1400: 0.573513\n",
      "Cost after iteration 1500: 0.519131\n",
      "Cost after iteration 1600: 0.489390\n",
      "Cost after iteration 1700: 0.416188\n",
      "Cost after iteration 1800: 0.541169\n",
      "Cost after iteration 1900: 0.504574\n",
      "Cost after iteration 2000: 0.604008\n",
      "Cost after iteration 2100: 0.520753\n",
      "Cost after iteration 2200: 0.633037\n",
      "Cost after iteration 2300: 0.614661\n",
      "Cost after iteration 2400: 0.592630\n",
      "Cost after iteration 2500: 0.569813\n",
      "Cost after iteration 2600: 0.539021\n",
      "Cost after iteration 2700: 0.508496\n",
      "Cost after iteration 2800: 0.487379\n",
      "Cost after iteration 2900: 0.446595\n"
     ]
    },
    {
     "data": {
      "image/png": "[encoded data removed]",
      "text/plain": [
       "<Figure size 360x288 with 1 Axes>"
      ]
     },
     "metadata": {
      "needs_background": "light"
     },
     "output_type": "display_data"
    },
    {
     "name": "stdout",
     "output_type": "stream",
     "text": [
      "train accuracy: 87.5598086124402 %\n",
      "test accuracy: 56.0 %\n"
     ]
    }
   ],
   "source": [
    "main()"
   ]
  }
 ],
 "metadata": {
  "kernelspec": {
   "display_name": "Python 3",
   "language": "python",
   "name": "python3"
  },
  "language_info": {
   "codemirror_mode": {
    "name": "ipython",
    "version": 3
   },
   "file_extension": ".py",
   "mimetype": "text/x-python",
   "name": "python",
   "nbconvert_exporter": "python",
   "pygments_lexer": "ipython3",
   "version": "3.8.5"
  }
 },
 "nbformat": 4,
 "nbformat_minor": 2
}
